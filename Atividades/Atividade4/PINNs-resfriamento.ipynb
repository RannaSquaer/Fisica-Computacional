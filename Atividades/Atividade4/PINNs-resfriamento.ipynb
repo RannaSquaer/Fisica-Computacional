{
 "cells": [
  {
   "cell_type": "markdown",
   "id": "1d817131",
   "metadata": {},
   "source": [
    "# Physics Informed Neural Networks (PINNs)\n",
    "\n",
    "Neste exemplo, será resolvida a EDO do resfriamento de uma caneca de café, a equação é dada por: \n",
    "$$ \\frac{dT}{dt} = r (T_{amb}-T) $$\n",
    "em que $T$ é a temperatura do café, $T_{amb}$ é a temperatura ambiente que será fixada em $T_{amb}=25°C$ e $r$ é a taxa de resfriamento que será fixada em $r = 0.005^{s^{-1}}$.\n",
    "\n",
    "A taxa de resfriamento $r$ controla a velocidade com que o café esfria, quanto maior o valor de $r4, mais rápido o objeto se ajusta à temperatura ambiente. Quanto menor o valor de $r$, mais lento é o resfriamento.\n",
    "\n",
    "Em termos matemáticos, a equação $ \\frac{dT}{dt} = r (T_{amb}-T) $ diz que a velocidade da mudança de temperatura $ \\frac{dT}{dt}$ é proporcional à diferença de temperatura entre o objeto e o ambiente.\n",
    "\n",
    "Se $T$ está muito acima de $T_{amb}$, a mudança é rápida. À medida que $T$ se aproxima de $T_{amb}$, a mudança diminui (pois $T_{amb} - T$ fica pequeno).\n"
   ]
  },
  {
   "cell_type": "markdown",
   "id": "34ef93ee",
   "metadata": {},
   "source": [
    "## 1- Resolvendo analiticamente a EDO do resfriamento de uma caneca de café\n",
    "\n",
    "$ \\frac{dT}{dt} = r (T_{amb}-T) $ é uma EDO de 1ª ordem que pode ser resolvida através do método de separação de variáveis.\n",
    "\n",
    "$$ \\int \\frac{1}{(T_{amb}-T)} dT = \\int r dt$$\n",
    "\n",
    "Resolvendo a primeira parte através da susbtituição de variáveis, temos que $u = T_{amb}-T$  e $du = - dT$ dessa forma:\n",
    "\n",
    "$$ - \\int \\frac{1}{u} du = - \\ln{u} dt$$\n",
    "\n",
    "$$\\int \\frac{1}{(T_{amb}-T)} dT = - \\ln{(T_{amb}-T)}$$\n",
    "\n",
    "Resolvendo a segunda parte:\n",
    "\n",
    "$$ \\int r dt = rt + C $$\n",
    "\n",
    "Portanto:\n",
    "\n",
    "$$\\ln{(T_{amb}-T)} = - rt - C$$ definimos $C_{1} = - C$\n",
    "\n",
    "$$\\ln{(T_{amb}-T)} = - rt + C{_1}$$\n",
    "\n",
    "$$ e^{ln{(T_{amb}-T)}} = e^{- rt + C{_1}} $$\n",
    "\n",
    "$$ T_{amb}-T = e^{-rt} C_{2}$$ definimos $C_{2} = e^{C_{1}}$\n",
    "\n",
    "$$ T = T_{amb} - C_{2} e^{-rt} $$\n",
    "\n",
    "Para $t=0$ definimos que $T(0) = T_0$ dessa forma determinamos que a constante será $C_{2}= T_{amb} - T_0 $, portanto:\n",
    "\n",
    "$$ T = T_{amb} - (T_{amb} - T_0) e^{-rt} $$\n"
   ]
  },
  {
   "cell_type": "code",
   "execution_count": null,
   "id": "51dcef75",
   "metadata": {},
   "outputs": [],
   "source": [
    "# Importando bibliotecas importantes\n",
    "import numpy as np\n",
    "import matplotlib.pyplot as plt\n",
    "\n",
    "# Importando a biblioteca Pytorch para  construir e treinar modelos\n",
    "import torch\n",
    "import torch.nn as nn\n",
    "import torch.optim as optim"
   ]
  },
  {
   "cell_type": "markdown",
   "id": "9ae67824",
   "metadata": {},
   "source": []
  }
 ],
 "metadata": {
  "kernelspec": {
   "display_name": "pytorch-env",
   "language": "python",
   "name": "python3"
  },
  "language_info": {
   "name": "python",
   "version": "3.12.9"
  }
 },
 "nbformat": 4,
 "nbformat_minor": 5
}
